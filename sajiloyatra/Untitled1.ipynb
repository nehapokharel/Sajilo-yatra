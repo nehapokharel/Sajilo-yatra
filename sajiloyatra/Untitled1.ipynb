{
 "cells": [
  {
   "cell_type": "code",
   "execution_count": null,
   "metadata": {},
   "outputs": [],
   "source": [
    "import pandas as pd\n",
    "df = pd.read_csv(\"FoodReview.csv\")"
   ]
  },
  {
   "cell_type": "code",
   "execution_count": null,
   "metadata": {},
   "outputs": [],
   "source": [
    "import matplotlib.pyplot as plt\n"
   ]
  },
  {
   "cell_type": "code",
   "execution_count": null,
   "metadata": {},
   "outputs": [],
   "source": [
    "plt.scatter(df['food'],df['reviewer'])"
   ]
  },
  {
   "cell_type": "code",
   "execution_count": null,
   "metadata": {},
   "outputs": [],
   "source": [
    "X=df[['food','review']]\n",
    "y=df['reviewer']"
   ]
  },
  {
   "cell_type": "code",
   "execution_count": null,
   "metadata": {},
   "outputs": [],
   "source": [
    "X"
   ]
  },
  {
   "cell_type": "code",
   "execution_count": null,
   "metadata": {},
   "outputs": [],
   "source": [
    "from sklearn.model_selection import train_test_split"
   ]
  },
  {
   "cell_type": "code",
   "execution_count": null,
   "metadata": {},
   "outputs": [],
   "source": [
    "import tflearn"
   ]
  },
  {
   "cell_type": "code",
   "execution_count": null,
   "metadata": {},
   "outputs": [],
   "source": [
    "from tflearn.data_utils import pad_sequences\n",
    "from keras.utils.np_utils import to_categorical"
   ]
  },
  {
   "cell_type": "code",
   "execution_count": null,
   "metadata": {},
   "outputs": [],
   "source": [
    "from sklearn.model_selection import train_test_split\n",
    "X_train,X_test,y_train,y_test=train_test_split(X,y,test_size=0.2,random_state=10)\n"
   ]
  },
  {
   "cell_type": "code",
   "execution_count": null,
   "metadata": {},
   "outputs": [],
   "source": [
    "import pandas as pd\n"
   ]
  },
  {
   "cell_type": "code",
   "execution_count": null,
   "metadata": {},
   "outputs": [],
   "source": [
    "y_train = to_categorical(y_train, nb_classes=2)\n",
    "y_test = to_categorical(y_test, nb_classes=2)"
   ]
  },
  {
   "cell_type": "code",
   "execution_count": 13,
   "metadata": {},
   "outputs": [
    {
     "name": "stderr",
     "output_type": "stream",
     "text": [
      "W0625 06:08:53.589087 140537926887232 deprecation_wrapper.py:119] From /home/neha/Envs/sajiloyatra/lib/python3.6/site-packages/tflearn/layers/core.py:81: The name tf.placeholder is deprecated. Please use tf.compat.v1.placeholder instead.\n",
      "\n",
      "W0625 06:08:53.596699 140537926887232 deprecation.py:506] From /home/neha/Envs/sajiloyatra/lib/python3.6/site-packages/tflearn/initializations.py:165: calling TruncatedNormal.__init__ (from tensorflow.python.ops.init_ops) with dtype is deprecated and will be removed in a future version.\n",
      "Instructions for updating:\n",
      "Call initializer instance with the dtype argument instead of passing it to the constructor\n",
      "W0625 06:08:53.642064 140537926887232 deprecation.py:323] From /home/neha/Envs/sajiloyatra/lib/python3.6/site-packages/tflearn/layers/recurrent.py:69: static_rnn (from tensorflow.python.ops.rnn) is deprecated and will be removed in a future version.\n",
      "Instructions for updating:\n",
      "Please use `keras.layers.RNN(cell, unroll=True)`, which is equivalent to this API\n",
      "W0625 06:08:53.697742 140537926887232 deprecation.py:506] From /home/neha/Envs/sajiloyatra/lib/python3.6/site-packages/tflearn/layers/recurrent.py:681: calling dropout (from tensorflow.python.ops.nn_ops) with keep_prob is deprecated and will be removed in a future version.\n",
      "Instructions for updating:\n",
      "Please use `rate` instead of `keep_prob`. Rate should be set to `rate = 1 - keep_prob`.\n",
      "W0625 06:08:53.733291 140537926887232 deprecation.py:506] From /home/neha/Envs/sajiloyatra/lib/python3.6/site-packages/tensorflow/python/ops/init_ops.py:1251: calling VarianceScaling.__init__ (from tensorflow.python.ops.init_ops) with dtype is deprecated and will be removed in a future version.\n",
      "Instructions for updating:\n",
      "Call initializer instance with the dtype argument instead of passing it to the constructor\n",
      "W0625 06:08:58.946923 140537926887232 deprecation_wrapper.py:119] From /home/neha/Envs/sajiloyatra/lib/python3.6/site-packages/tflearn/optimizers.py:238: The name tf.train.AdamOptimizer is deprecated. Please use tf.compat.v1.train.AdamOptimizer instead.\n",
      "\n"
     ]
    }
   ],
   "source": [
    "net = tflearn.input_data([None, 100])\n",
    "net = tflearn.layers.embedding_ops.embedding(net, input_dim=10000, output_dim=128)\n",
    "net = tflearn.lstm(net,128,dropout=0.8)\n",
    "net = tflearn.fully_connected(net,2, activation='softmax')\n",
    "net = tflearn.regression(net,optimizer='adam',learning_rate=0.0001, loss='categorical_crossentropy')"
   ]
  },
  {
   "cell_type": "code",
   "execution_count": null,
   "metadata": {},
   "outputs": [
    {
     "name": "stdout",
     "output_type": "stream",
     "text": [
      "---------------------------------\n",
      "Run id: EPXUSQ\n",
      "Log directory: /tmp/tflearn_logs/\n",
      "---------------------------------\n",
      "Training samples: 124\n",
      "Validation samples: 31\n",
      "--\n"
     ]
    },
    {
     "name": "stderr",
     "output_type": "stream",
     "text": [
      "Exception in thread Thread-6:\n",
      "Traceback (most recent call last):\n",
      "  File \"/usr/lib/python3.6/threading.py\", line 916, in _bootstrap_inner\n",
      "    self.run()\n",
      "  File \"/usr/lib/python3.6/threading.py\", line 864, in run\n",
      "    self._target(*self._args, **self._kwargs)\n",
      "  File \"/home/neha/Envs/sajiloyatra/lib/python3.6/site-packages/tflearn/data_flow.py\", line 187, in fill_feed_dict_queue\n",
      "    data = self.retrieve_data(batch_ids)\n",
      "  File \"/home/neha/Envs/sajiloyatra/lib/python3.6/site-packages/tflearn/data_flow.py\", line 222, in retrieve_data\n",
      "    utils.slice_array(self.feed_dict[key], batch_ids)\n",
      "  File \"/home/neha/Envs/sajiloyatra/lib/python3.6/site-packages/tflearn/utils.py\", line 204, in slice_array\n",
      "    return X[start]\n",
      "  File \"/home/neha/Envs/sajiloyatra/lib/python3.6/site-packages/pandas/core/frame.py\", line 2934, in __getitem__\n",
      "    raise_missing=True)\n",
      "  File \"/home/neha/Envs/sajiloyatra/lib/python3.6/site-packages/pandas/core/indexing.py\", line 1354, in _convert_to_indexer\n",
      "    return self._get_listlike_indexer(obj, axis, **kwargs)[1]\n",
      "  File \"/home/neha/Envs/sajiloyatra/lib/python3.6/site-packages/pandas/core/indexing.py\", line 1161, in _get_listlike_indexer\n",
      "    raise_missing=raise_missing)\n",
      "  File \"/home/neha/Envs/sajiloyatra/lib/python3.6/site-packages/pandas/core/indexing.py\", line 1246, in _validate_read_indexer\n",
      "    key=key, axis=self.obj._get_axis_name(axis)))\n",
      "KeyError: \"None of [Int64Index([ 45,  44,  27,  90,  17,  41,  21,  32,  94,  40, 105,  91,  25,\\n              1,  26,  12,  79,   9,  62,  86,  48,  98, 121,  20, 117,  89,\\n            106, 113,  13,  75,  71,   0],\\n           dtype='int64')] are in the [columns]\"\n",
      "\n"
     ]
    }
   ],
   "source": [
    "model = tflearn.DNN(net,tensorboard_verbose=0)\n",
    "model.fit(X_train,y_train,validation_set=(X_test,y_test),show_metric=True,batch_size=32)"
   ]
  },
  {
   "cell_type": "code",
   "execution_count": null,
   "metadata": {},
   "outputs": [],
   "source": []
  }
 ],
 "metadata": {
  "kernelspec": {
   "display_name": "Python 3",
   "language": "python",
   "name": "python3"
  },
  "language_info": {
   "codemirror_mode": {
    "name": "ipython",
    "version": 3
   },
   "file_extension": ".py",
   "mimetype": "text/x-python",
   "name": "python",
   "nbconvert_exporter": "python",
   "pygments_lexer": "ipython3",
   "version": "3.6.8"
  }
 },
 "nbformat": 4,
 "nbformat_minor": 2
}
